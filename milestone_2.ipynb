{
  "cells": [
    {
      "cell_type": "markdown",
      "metadata": {
        "id": "view-in-github",
        "colab_type": "text"
      },
      "source": [
        "<a href=\"https://colab.research.google.com/github/EmiltonGH/EmiltonGH/blob/main/milestone_2.ipynb\" target=\"_parent\"><img src=\"https://colab.research.google.com/assets/colab-badge.svg\" alt=\"Open In Colab\"/></a>"
      ]
    },
    {
      "cell_type": "markdown",
      "metadata": {
        "id": "i_xLFYD8a_h3"
      },
      "source": [
        "# Movie Recommendation - Milestone 2"
      ]
    },
    {
      "cell_type": "markdown",
      "metadata": {
        "id": "VCv7xziSD-NN"
      },
      "source": [
        "<details>\n",
        "  <summary>Click in any of these links to compare your solution with ours up to this point</summary>\n",
        "  <p>\n",
        "    <a href=\"https://colab.research.google.com/github/AI-Core/movie-recommendation-solutions/blob/main/solution_m1.ipynb\" target=\"_parent\">Solution for milestone 1</a>\n",
        "  </p>\n",
        "</details>"
      ]
    },
    {
      "cell_type": "code",
      "execution_count": 13,
      "metadata": {
        "id": "RLn-_E7Ba3Q4"
      },
      "outputs": [],
      "source": [
        "#@title # Run this cell before you start coding { display-mode: \"form\" }\n",
        "#@markdown Don’t worry about what’s in this collapsed cell, you’re not expected to understand the code inside\n",
        "\n",
        "!pip install movie-rec-marking-aicore --upgrade --quiet\n",
        "!wget https://aicore-files.s3.amazonaws.com/Movie-Recommendation/movies-head.json --quiet\n",
        "import json\n",
        "from movie_rec_marking import test_milestone_2\n",
        "\n",
        "# Load the movies\n",
        "with open('movies-head.json', 'r') as f:\n",
        "    movies = json.load(f)"
      ]
    },
    {
      "cell_type": "markdown",
      "metadata": {
        "id": "MYQw48Lqa3Q4"
      },
      "source": [
        "# Task 1\n",
        "### Display all the movies' titles\n",
        "\n",
        "Define a function called `print_every_movie_title` that goes through the list of movies and prints each of their title, one by one. The function should not return anything"
      ]
    },
    {
      "cell_type": "code",
      "execution_count": 14,
      "metadata": {
        "id": "1UpT9BAym0iW",
        "outputId": "b3a3ea0f-87c3-4eee-9e19-974ae1c4d9b0",
        "colab": {
          "base_uri": "https://localhost:8080/"
        }
      },
      "outputs": [
        {
          "output_type": "stream",
          "name": "stdout",
          "text": [
            "The Shawshank Redemption\n",
            "The Godfather\n",
            "The Dark Knight\n",
            "The Godfather: Part II\n",
            "12 Angry Men\n"
          ]
        }
      ],
      "source": [
        "## Write your code here\n",
        "def print_every_movie_title(movies):\n",
        "    for movie in movies:\n",
        "      print(movie['title'])\n",
        "\n",
        "print_every_movie_title(movies)"
      ]
    },
    {
      "cell_type": "code",
      "execution_count": 15,
      "metadata": {
        "id": "zUFpNwh-D-NV",
        "outputId": "38074ba5-921a-42a3-e6e2-892564ee60d5",
        "colab": {
          "base_uri": "https://localhost:8080/"
        }
      },
      "outputs": [
        {
          "output_type": "stream",
          "name": "stdout",
          "text": [
            "Great! The function prints every movie name\n",
            "You can continue to the next task\n"
          ]
        }
      ],
      "source": [
        "#@title Run this cell to check your solution { display-mode: \"form\", run: \"auto\" }\n",
        "assert 'print_every_movie_title' in globals(), \"Please define the function print_every_movie_title\"\n",
        "task_1 = test_milestone_2.check_print_every_movie_title(print_every_movie_title)"
      ]
    },
    {
      "cell_type": "markdown",
      "metadata": {
        "id": "ofGa7cFFD-Ne"
      },
      "source": [
        "# Task 2\n",
        "\n",
        "### What is the length of a given movie's description?\n",
        "\n",
        "Define a function called `get_movie_description_length` that takes in one of the movies from the list of movies.\n",
        "You should pass the entire dictionary from the relevant entry in the list of movies as an input argument to the function.\n",
        "The function should then return the exact number of characters in its description, formatted as an integer.\n",
        "\n",
        "Test the function you have defined by using it to check the description of the the first entry in the `movies` list (i.e. `movies[0]`)."
      ]
    },
    {
      "cell_type": "code",
      "execution_count": 16,
      "metadata": {
        "id": "qN1fYJLvD-Ni",
        "outputId": "a91a413f-1ba8-4451-deb8-86262ba69de6",
        "colab": {
          "base_uri": "https://localhost:8080/"
        }
      },
      "outputs": [
        {
          "output_type": "execute_result",
          "data": {
            "text/plain": [
              "149"
            ]
          },
          "metadata": {},
          "execution_count": 16
        }
      ],
      "source": [
        "## Write your code here\n",
        "def get_movie_description_length(movies):\n",
        "    return len(movies['description'])\n",
        "\n",
        "get_movie_description_length(movies[1])"
      ]
    },
    {
      "cell_type": "code",
      "execution_count": 17,
      "metadata": {
        "id": "MlptS_-8D-Nj",
        "outputId": "e145e5fc-ad01-4680-8ccc-76f9ce49768e",
        "colab": {
          "base_uri": "https://localhost:8080/"
        }
      },
      "outputs": [
        {
          "output_type": "stream",
          "name": "stdout",
          "text": [
            "testing  the function with movie:  The Godfather\n",
            "Testing that the function can accept a movie as an argument, and that it returns the correct length of the description as an integer type\n",
            "Great! The function returns the correct length of the description:  149\n",
            "You can continue to the next task\n"
          ]
        }
      ],
      "source": [
        "#@title Run this cell to check your solution { display-mode: \"form\", run: \"auto\" }\n",
        "assert 'get_movie_description_length' in globals(), \"Please define the function get_movie_description_length\"\n",
        "task_2 = test_milestone_2.check_get_movie_description_length(get_movie_description_length, task_1)"
      ]
    },
    {
      "cell_type": "markdown",
      "metadata": {
        "id": "JFp-K7vID-Nk"
      },
      "source": [
        "# Task 3\n",
        "\n",
        "### What is the average length of any movie description?\n",
        "\n",
        "Define a function called `get_avg_movie_description_length` that returns the average number of characters in each movie description, averaged across the whole dataset.\n",
        "\n",
        "The function should return a floating point number, rounded to 1 decimal place.\n",
        "\n",
        "To avoid repeating code, make sure that you use the function you defined earlier for getting the movie description length inside this function."
      ]
    },
    {
      "cell_type": "code",
      "execution_count": 19,
      "metadata": {
        "id": "0zQP_2N3D-Nl",
        "outputId": "b7fa19b8-66b7-46e4-ba7d-ee7777be282b",
        "colab": {
          "base_uri": "https://localhost:8080/"
        }
      },
      "outputs": [
        {
          "output_type": "execute_result",
          "data": {
            "text/plain": [
              "160.8"
            ]
          },
          "metadata": {},
          "execution_count": 19
        }
      ],
      "source": [
        "## Write your code here\n",
        "def get_avg_movie_description_length(movies):\n",
        "    total_length = sum(get_movie_description_length(movie) for movie in movies)\n",
        "    number_of_movies = len(movies)\n",
        "    if number_of_movies > 0 :\n",
        "        return(round(total_length/number_of_movies,1))\n",
        "    else :\n",
        "        return 0\n",
        "\n",
        "get_avg_movie_description_length(movies)"
      ]
    },
    {
      "cell_type": "code",
      "execution_count": 20,
      "metadata": {
        "id": "JJjOn3StD-Np",
        "outputId": "bbb3724d-38c4-40b5-812f-4961d251a6bb",
        "colab": {
          "base_uri": "https://localhost:8080/"
        }
      },
      "outputs": [
        {
          "output_type": "stream",
          "name": "stdout",
          "text": [
            "Great! The \"get_avg_movie_description_length\" function returns the correct average length of the description\n",
            "You can continue to the next task\n"
          ]
        }
      ],
      "source": [
        "#@title Run this cell to check your solution { display-mode: \"form\", run: \"auto\" }\n",
        "assert 'get_avg_movie_description_length' in globals(), \"Please define the function get_avg_movie_description_length\"\n",
        "task_3 = test_milestone_2.check_get_avg_movie_description_length(get_avg_movie_description_length, task_2)"
      ]
    },
    {
      "cell_type": "markdown",
      "metadata": {
        "id": "CU_SFuHdD-Nq"
      },
      "source": [
        "# Task 4\n",
        "\n",
        "### What is the maximum length of any movie name?\n",
        "\n",
        "Define a function called `get_max_movie_name_length`.\n",
        "\n",
        "It should return two things, in this order:\n",
        "\n",
        "1. The integer number of the length of the longest movie name\n",
        "2. The name of the movie"
      ]
    },
    {
      "cell_type": "code",
      "execution_count": 26,
      "metadata": {
        "id": "Cjvn0dn7D-Nq",
        "outputId": "9d5dd805-c0c0-4e60-a914-a58505cc3678",
        "colab": {
          "base_uri": "https://localhost:8080/"
        }
      },
      "outputs": [
        {
          "output_type": "stream",
          "name": "stdout",
          "text": [
            "24\n",
            "The Shawshank Redemption\n"
          ]
        }
      ],
      "source": [
        "## Write your code here\n",
        "def get_max_movie_name_length(movies):\n",
        "    max_length = 0\n",
        "    movie_name = \"\"\n",
        "    for movie in movies :\n",
        "        if len(movie['title'])> max_length:\n",
        "            max_length = len(movie['title'])\n",
        "            movie_name = movie['title']\n",
        "    return max_length,movie_name\n",
        "\n",
        "max_length,movie_name = get_max_movie_name_length(movies)\n",
        "print(max_length)\n",
        "print(movie_name)"
      ]
    },
    {
      "cell_type": "code",
      "execution_count": 27,
      "metadata": {
        "id": "mtOxrAHlD-Nr",
        "outputId": "40776689-e0c0-4fd6-83f1-a14bafe2a5b8",
        "colab": {
          "base_uri": "https://localhost:8080/"
        }
      },
      "outputs": [
        {
          "output_type": "stream",
          "name": "stdout",
          "text": [
            "Great! The \"get_max_movie_name_length\" function returns the correct maximum length of the movie name:  (24, 'The Shawshank Redemption')\n",
            "Nice job! You have complete the second milestone of the project!\n"
          ]
        }
      ],
      "source": [
        "#@title Run this cell to check your solution { display-mode: \"form\", run: \"auto\" }\n",
        "assert 'get_max_movie_name_length' in globals(), \"Please define the function get_max_movie_name_length\"\n",
        "task_4 = test_milestone_2.check_get_max_movie_name_length(get_max_movie_name_length, task_3)"
      ]
    }
  ],
  "metadata": {
    "colab": {
      "provenance": [],
      "include_colab_link": true
    },
    "kernelspec": {
      "display_name": "base",
      "language": "python",
      "name": "python3"
    },
    "language_info": {
      "codemirror_mode": {
        "name": "ipython",
        "version": 3
      },
      "file_extension": ".py",
      "mimetype": "text/x-python",
      "name": "python",
      "nbconvert_exporter": "python",
      "pygments_lexer": "ipython3",
      "version": "3.9.12 (main, Apr  5 2022, 06:56:58) \n[GCC 7.5.0]"
    },
    "orig_nbformat": 4,
    "vscode": {
      "interpreter": {
        "hash": "a2592652612463181e69ac003232387e3e9a99279aa6b168e76f5df16d5110f4"
      }
    }
  },
  "nbformat": 4,
  "nbformat_minor": 0
}